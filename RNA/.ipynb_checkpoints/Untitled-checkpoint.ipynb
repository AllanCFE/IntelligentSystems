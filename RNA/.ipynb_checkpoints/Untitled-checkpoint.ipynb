{
 "cells": [
  {
   "cell_type": "code",
   "execution_count": 3,
   "id": "15730827",
   "metadata": {
    "scrolled": true
   },
   "outputs": [],
   "source": [
    "import tensorflow as tf\n",
    "from tensorflow import keras\n",
    "from tensorflow.keras.models import Sequential\n",
    "from tensorflow.keras.layers import Activation, Dense\n",
    "from tensorflow.keras.optimizers import Adam\n",
    "from tensorflow.keras.metrics import categorical_crossentropy"
   ]
  },
  {
   "cell_type": "markdown",
   "id": "57e8b71d",
   "metadata": {},
   "source": [
    "# Modelos no Keras\n",
    "O Keras fornece três tipos de modelos que podemos utilizar para criar uma Rede\n",
    "\n",
    "## Sequential\n",
    "O mais simples, basicamente cria várias camadas com vários nós, mas com limitação de entrada/saída unitári (1 coluna).\n",
    "\n",
    "## API Funcional\n",
    "Com uma estrutura (de certa forma) também simples, a API funcional é como uma *evolução* do modelo Sequencial."
   ]
  }
 ],
 "metadata": {
  "kernelspec": {
   "display_name": "Python 3 (ipykernel)",
   "language": "python",
   "name": "python3"
  },
  "language_info": {
   "codemirror_mode": {
    "name": "ipython",
    "version": 3
   },
   "file_extension": ".py",
   "mimetype": "text/x-python",
   "name": "python",
   "nbconvert_exporter": "python",
   "pygments_lexer": "ipython3",
   "version": "3.10.7"
  }
 },
 "nbformat": 4,
 "nbformat_minor": 5
}
